{
 "cells": [
  {
   "cell_type": "markdown",
   "id": "adba3ef3",
   "metadata": {},
   "source": [
    "Code outline\n",
    "\n",
    "Required packages:\n",
    "\n",
    "Pseudocode for method:\n"
   ]
  }
 ],
 "metadata": {
  "language_info": {
   "name": "python"
  }
 },
 "nbformat": 4,
 "nbformat_minor": 5
}
